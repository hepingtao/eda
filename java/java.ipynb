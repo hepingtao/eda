{
 "cells": [
  {
   "cell_type": "code",
   "execution_count": 2,
   "metadata": {
    "collapsed": false,
    "nbpresent": {
     "id": "fc5cfd01-0442-4f49-9e49-ee9ad59cee80"
    },
    "scrolled": true
   },
   "outputs": [
    {
     "name": "stdout",
     "output_type": "stream",
     "text": [
      "\u001b[32mHello\u001b[0m\r\n",
      "\u001b[32m\u001b[0m\r\n",
      "\u001b[1m"
     ]
    }
   ],
   "source": [
    "System.out.println(\"Hello\")"
   ]
  },
  {
   "cell_type": "code",
   "execution_count": 3,
   "metadata": {
    "collapsed": false,
    "nbpresent": {
     "id": "ef30c970-9957-4f5c-80d9-22024bf76839"
    }
   },
   "outputs": [
    {
     "name": "stdout",
     "output_type": "stream",
     "text": [
      "\u001b[32mjava.lang.String a = \"hello\"\u001b[0m\r\n",
      "\u001b[1m"
     ]
    }
   ],
   "source": [
    "a = \"hello\""
   ]
  },
  {
   "cell_type": "code",
   "execution_count": 4,
   "metadata": {
    "collapsed": false,
    "nbpresent": {
     "id": "23b1a676-3157-422d-903c-c34e5cf38813"
    }
   },
   "outputs": [
    {
     "name": "stdout",
     "output_type": "stream",
     "text": [
      "\u001b[32mjava.lang.String b = \"world\"\u001b[0m\r\n",
      "\u001b[1m"
     ]
    }
   ],
   "source": [
    "String b = \"world\""
   ]
  },
  {
   "cell_type": "code",
   "execution_count": 5,
   "metadata": {
    "collapsed": false,
    "nbpresent": {
     "id": "b0da5baa-240a-429c-94c2-6318a78b69af"
    },
    "scrolled": true
   },
   "outputs": [
    {
     "name": "stdout",
     "output_type": "stream",
     "text": [
      "\u001b[32mjava.lang.String res2 = \"helloworld\"\u001b[0m\r\n",
      "\u001b[1m"
     ]
    }
   ],
   "source": [
    "a + b"
   ]
  },
  {
   "cell_type": "code",
   "execution_count": 8,
   "metadata": {
    "collapsed": false,
    "nbpresent": {
     "id": "b90aff0a-1cef-4c58-98d8-e657c119af88"
    },
    "scrolled": true
   },
   "outputs": [
    {
     "name": "stdout",
     "output_type": "stream",
     "text": [
      "\u001b[31mERROR: illegal start of expression\r\n",
      "    %%python3 print(\"hello\");\r\n",
      "    ^\r\n",
      "ERROR: illegal start of expression\r\n",
      "    %%python3 print(\"hello\");\r\n",
      "     ^\r\n",
      "ERROR: ';' expected\r\n",
      "    %%python3 print(\"hello\");\r\n",
      "             ^\u001b[0m\r\n",
      "\u001b[1m"
     ]
    }
   ],
   "source": [
    "%%python3\n",
    "print(\"hello\")"
   ]
  },
  {
   "cell_type": "code",
   "execution_count": null,
   "metadata": {
    "collapsed": true
   },
   "outputs": [],
   "source": []
  }
 ],
 "metadata": {
  "anaconda-cloud": {},
  "kernelspec": {
   "display_name": "Java 8",
   "language": "java",
   "name": "java"
  },
  "language_info": {},
  "nbpresent": {
   "slides": {
    "22ce7042-9817-47af-8496-4f1022d17535": {
     "id": "22ce7042-9817-47af-8496-4f1022d17535",
     "prev": "4e37f5da-93bf-4c28-bc46-9fd541fd826e",
     "regions": {
      "7a81b3fe-9a54-49cf-88b6-95537cbeaec4": {
       "attrs": {
        "height": 0.8,
        "width": 0.8,
        "x": 0.1,
        "y": 0.1
       },
       "content": {
        "cell": "ef30c970-9957-4f5c-80d9-22024bf76839",
        "part": "whole"
       },
       "id": "7a81b3fe-9a54-49cf-88b6-95537cbeaec4"
      }
     }
    },
    "4472f699-e3da-4c27-83bb-afb3efe152e0": {
     "id": "4472f699-e3da-4c27-83bb-afb3efe152e0",
     "prev": "6430da1a-5f50-41b8-a207-3ab2ab1b8bad",
     "regions": {
      "34473678-3616-41dc-a2f5-11fa14703e80": {
       "attrs": {
        "height": 0.8,
        "width": 0.8,
        "x": 0.1,
        "y": 0.1
       },
       "content": {
        "cell": "b0da5baa-240a-429c-94c2-6318a78b69af",
        "part": "whole"
       },
       "id": "34473678-3616-41dc-a2f5-11fa14703e80"
      }
     }
    },
    "4e37f5da-93bf-4c28-bc46-9fd541fd826e": {
     "id": "4e37f5da-93bf-4c28-bc46-9fd541fd826e",
     "prev": null,
     "regions": {
      "39a162bb-0f8e-4c08-ae06-46228a4c6144": {
       "attrs": {
        "height": 0.8,
        "width": 0.8,
        "x": 0.1,
        "y": 0.1
       },
       "content": {
        "cell": "fc5cfd01-0442-4f49-9e49-ee9ad59cee80",
        "part": "whole"
       },
       "id": "39a162bb-0f8e-4c08-ae06-46228a4c6144"
      }
     }
    },
    "6430da1a-5f50-41b8-a207-3ab2ab1b8bad": {
     "id": "6430da1a-5f50-41b8-a207-3ab2ab1b8bad",
     "prev": "22ce7042-9817-47af-8496-4f1022d17535",
     "regions": {
      "1464e945-a52c-4314-95d9-69f26839864b": {
       "attrs": {
        "height": 0.8,
        "width": 0.8,
        "x": 0.1,
        "y": 0.1
       },
       "content": {
        "cell": "23b1a676-3157-422d-903c-c34e5cf38813",
        "part": "whole"
       },
       "id": "1464e945-a52c-4314-95d9-69f26839864b"
      }
     }
    },
    "99833655-3402-417d-8b91-363c29d4d2bd": {
     "id": "99833655-3402-417d-8b91-363c29d4d2bd",
     "prev": "4472f699-e3da-4c27-83bb-afb3efe152e0",
     "regions": {
      "a9fd6ee2-df3e-47ec-8734-20d70c56a2b0": {
       "attrs": {
        "height": 0.8,
        "width": 0.8,
        "x": 0.1,
        "y": 0.1
       },
       "content": {
        "cell": "b90aff0a-1cef-4c58-98d8-e657c119af88",
        "part": "whole"
       },
       "id": "a9fd6ee2-df3e-47ec-8734-20d70c56a2b0"
      }
     }
    }
   },
   "themes": {}
  }
 },
 "nbformat": 4,
 "nbformat_minor": 1
}
