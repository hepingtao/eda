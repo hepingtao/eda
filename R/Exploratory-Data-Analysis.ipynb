{
 "cells": [
  {
   "cell_type": "markdown",
   "metadata": {},
   "source": [
    "# Exploratory Data Analysis"
   ]
  },
  {
   "cell_type": "markdown",
   "metadata": {},
   "source": [
    "## Dataset Preparation"
   ]
  },
  {
   "cell_type": "code",
   "execution_count": 1,
   "metadata": {
    "collapsed": true
   },
   "outputs": [],
   "source": [
    "loc <- \"http://archive.ics.uci.edu/ml/machine-learning-databases/\""
   ]
  },
  {
   "cell_type": "code",
   "execution_count": 2,
   "metadata": {
    "collapsed": true
   },
   "outputs": [],
   "source": [
    "ds <- \"iris/iris.data\""
   ]
  },
  {
   "cell_type": "code",
   "execution_count": 3,
   "metadata": {
    "collapsed": true
   },
   "outputs": [],
   "source": [
    "url <- paste(loc, ds, sep=\"\")"
   ]
  },
  {
   "cell_type": "code",
   "execution_count": 4,
   "metadata": {
    "collapsed": true
   },
   "outputs": [],
   "source": [
    "iris.data <- read.table(url, sep=\",\", header=FALSE, na.strings=\"?\")"
   ]
  },
  {
   "cell_type": "code",
   "execution_count": 5,
   "metadata": {
    "collapsed": true
   },
   "outputs": [],
   "source": [
    "names(iris.data) <- c(\"Sepal.Length\", \"Sepal.Width\", \"Petal.Length\", \"Petal.Width\", \"Species\")"
   ]
  },
  {
   "cell_type": "code",
   "execution_count": 7,
   "metadata": {
    "collapsed": false
   },
   "outputs": [
    {
     "data": {
      "text/html": [
       "<table>\n",
       "<thead><tr><th scope=col>Sepal.Length</th><th scope=col>Sepal.Width</th><th scope=col>Petal.Length</th><th scope=col>Petal.Width</th><th scope=col>Species</th></tr></thead>\n",
       "<tbody>\n",
       "\t<tr><td>5.1        </td><td>3.5        </td><td>1.4        </td><td>0.2        </td><td>Iris-setosa</td></tr>\n",
       "\t<tr><td>4.9        </td><td>3.0        </td><td>1.4        </td><td>0.2        </td><td>Iris-setosa</td></tr>\n",
       "\t<tr><td>4.7        </td><td>3.2        </td><td>1.3        </td><td>0.2        </td><td>Iris-setosa</td></tr>\n",
       "\t<tr><td>4.6        </td><td>3.1        </td><td>1.5        </td><td>0.2        </td><td>Iris-setosa</td></tr>\n",
       "\t<tr><td>5.0        </td><td>3.6        </td><td>1.4        </td><td>0.2        </td><td>Iris-setosa</td></tr>\n",
       "\t<tr><td>5.4        </td><td>3.9        </td><td>1.7        </td><td>0.4        </td><td>Iris-setosa</td></tr>\n",
       "\t<tr><td>4.6        </td><td>3.4        </td><td>1.4        </td><td>0.3        </td><td>Iris-setosa</td></tr>\n",
       "\t<tr><td>5.0        </td><td>3.4        </td><td>1.5        </td><td>0.2        </td><td>Iris-setosa</td></tr>\n",
       "\t<tr><td>4.4        </td><td>2.9        </td><td>1.4        </td><td>0.2        </td><td>Iris-setosa</td></tr>\n",
       "\t<tr><td>4.9        </td><td>3.1        </td><td>1.5        </td><td>0.1        </td><td>Iris-setosa</td></tr>\n",
       "\t<tr><td>5.4        </td><td>3.7        </td><td>1.5        </td><td>0.2        </td><td>Iris-setosa</td></tr>\n",
       "\t<tr><td>4.8        </td><td>3.4        </td><td>1.6        </td><td>0.2        </td><td>Iris-setosa</td></tr>\n",
       "\t<tr><td>4.8        </td><td>3.0        </td><td>1.4        </td><td>0.1        </td><td>Iris-setosa</td></tr>\n",
       "\t<tr><td>4.3        </td><td>3.0        </td><td>1.1        </td><td>0.1        </td><td>Iris-setosa</td></tr>\n",
       "\t<tr><td>5.8        </td><td>4.0        </td><td>1.2        </td><td>0.2        </td><td>Iris-setosa</td></tr>\n",
       "\t<tr><td>5.7        </td><td>4.4        </td><td>1.5        </td><td>0.4        </td><td>Iris-setosa</td></tr>\n",
       "\t<tr><td>5.4        </td><td>3.9        </td><td>1.3        </td><td>0.4        </td><td>Iris-setosa</td></tr>\n",
       "\t<tr><td>5.1        </td><td>3.5        </td><td>1.4        </td><td>0.3        </td><td>Iris-setosa</td></tr>\n",
       "\t<tr><td>5.7        </td><td>3.8        </td><td>1.7        </td><td>0.3        </td><td>Iris-setosa</td></tr>\n",
       "\t<tr><td>5.1        </td><td>3.8        </td><td>1.5        </td><td>0.3        </td><td>Iris-setosa</td></tr>\n",
       "\t<tr><td>5.4        </td><td>3.4        </td><td>1.7        </td><td>0.2        </td><td>Iris-setosa</td></tr>\n",
       "\t<tr><td>5.1        </td><td>3.7        </td><td>1.5        </td><td>0.4        </td><td>Iris-setosa</td></tr>\n",
       "\t<tr><td>4.6        </td><td>3.6        </td><td>1.0        </td><td>0.2        </td><td>Iris-setosa</td></tr>\n",
       "\t<tr><td>5.1        </td><td>3.3        </td><td>1.7        </td><td>0.5        </td><td>Iris-setosa</td></tr>\n",
       "\t<tr><td>4.8        </td><td>3.4        </td><td>1.9        </td><td>0.2        </td><td>Iris-setosa</td></tr>\n",
       "\t<tr><td>5.0        </td><td>3.0        </td><td>1.6        </td><td>0.2        </td><td>Iris-setosa</td></tr>\n",
       "\t<tr><td>5.0        </td><td>3.4        </td><td>1.6        </td><td>0.4        </td><td>Iris-setosa</td></tr>\n",
       "\t<tr><td>5.2        </td><td>3.5        </td><td>1.5        </td><td>0.2        </td><td>Iris-setosa</td></tr>\n",
       "\t<tr><td>5.2        </td><td>3.4        </td><td>1.4        </td><td>0.2        </td><td>Iris-setosa</td></tr>\n",
       "\t<tr><td>4.7        </td><td>3.2        </td><td>1.6        </td><td>0.2        </td><td>Iris-setosa</td></tr>\n",
       "\t<tr><td>⋮</td><td>⋮</td><td>⋮</td><td>⋮</td><td>⋮</td></tr>\n",
       "\t<tr><td>6.9           </td><td>3.2           </td><td>5.7           </td><td>2.3           </td><td>Iris-virginica</td></tr>\n",
       "\t<tr><td>5.6           </td><td>2.8           </td><td>4.9           </td><td>2.0           </td><td>Iris-virginica</td></tr>\n",
       "\t<tr><td>7.7           </td><td>2.8           </td><td>6.7           </td><td>2.0           </td><td>Iris-virginica</td></tr>\n",
       "\t<tr><td>6.3           </td><td>2.7           </td><td>4.9           </td><td>1.8           </td><td>Iris-virginica</td></tr>\n",
       "\t<tr><td>6.7           </td><td>3.3           </td><td>5.7           </td><td>2.1           </td><td>Iris-virginica</td></tr>\n",
       "\t<tr><td>7.2           </td><td>3.2           </td><td>6.0           </td><td>1.8           </td><td>Iris-virginica</td></tr>\n",
       "\t<tr><td>6.2           </td><td>2.8           </td><td>4.8           </td><td>1.8           </td><td>Iris-virginica</td></tr>\n",
       "\t<tr><td>6.1           </td><td>3.0           </td><td>4.9           </td><td>1.8           </td><td>Iris-virginica</td></tr>\n",
       "\t<tr><td>6.4           </td><td>2.8           </td><td>5.6           </td><td>2.1           </td><td>Iris-virginica</td></tr>\n",
       "\t<tr><td>7.2           </td><td>3.0           </td><td>5.8           </td><td>1.6           </td><td>Iris-virginica</td></tr>\n",
       "\t<tr><td>7.4           </td><td>2.8           </td><td>6.1           </td><td>1.9           </td><td>Iris-virginica</td></tr>\n",
       "\t<tr><td>7.9           </td><td>3.8           </td><td>6.4           </td><td>2.0           </td><td>Iris-virginica</td></tr>\n",
       "\t<tr><td>6.4           </td><td>2.8           </td><td>5.6           </td><td>2.2           </td><td>Iris-virginica</td></tr>\n",
       "\t<tr><td>6.3           </td><td>2.8           </td><td>5.1           </td><td>1.5           </td><td>Iris-virginica</td></tr>\n",
       "\t<tr><td>6.1           </td><td>2.6           </td><td>5.6           </td><td>1.4           </td><td>Iris-virginica</td></tr>\n",
       "\t<tr><td>7.7           </td><td>3.0           </td><td>6.1           </td><td>2.3           </td><td>Iris-virginica</td></tr>\n",
       "\t<tr><td>6.3           </td><td>3.4           </td><td>5.6           </td><td>2.4           </td><td>Iris-virginica</td></tr>\n",
       "\t<tr><td>6.4           </td><td>3.1           </td><td>5.5           </td><td>1.8           </td><td>Iris-virginica</td></tr>\n",
       "\t<tr><td>6.0           </td><td>3.0           </td><td>4.8           </td><td>1.8           </td><td>Iris-virginica</td></tr>\n",
       "\t<tr><td>6.9           </td><td>3.1           </td><td>5.4           </td><td>2.1           </td><td>Iris-virginica</td></tr>\n",
       "\t<tr><td>6.7           </td><td>3.1           </td><td>5.6           </td><td>2.4           </td><td>Iris-virginica</td></tr>\n",
       "\t<tr><td>6.9           </td><td>3.1           </td><td>5.1           </td><td>2.3           </td><td>Iris-virginica</td></tr>\n",
       "\t<tr><td>5.8           </td><td>2.7           </td><td>5.1           </td><td>1.9           </td><td>Iris-virginica</td></tr>\n",
       "\t<tr><td>6.8           </td><td>3.2           </td><td>5.9           </td><td>2.3           </td><td>Iris-virginica</td></tr>\n",
       "\t<tr><td>6.7           </td><td>3.3           </td><td>5.7           </td><td>2.5           </td><td>Iris-virginica</td></tr>\n",
       "\t<tr><td>6.7           </td><td>3.0           </td><td>5.2           </td><td>2.3           </td><td>Iris-virginica</td></tr>\n",
       "\t<tr><td>6.3           </td><td>2.5           </td><td>5.0           </td><td>1.9           </td><td>Iris-virginica</td></tr>\n",
       "\t<tr><td>6.5           </td><td>3.0           </td><td>5.2           </td><td>2.0           </td><td>Iris-virginica</td></tr>\n",
       "\t<tr><td>6.2           </td><td>3.4           </td><td>5.4           </td><td>2.3           </td><td>Iris-virginica</td></tr>\n",
       "\t<tr><td>5.9           </td><td>3.0           </td><td>5.1           </td><td>1.8           </td><td>Iris-virginica</td></tr>\n",
       "</tbody>\n",
       "</table>\n"
      ],
      "text/latex": [
       "\\begin{tabular}{r|lllll}\n",
       " Sepal.Length & Sepal.Width & Petal.Length & Petal.Width & Species\\\\\n",
       "\\hline\n",
       "\t 5.1         & 3.5         & 1.4         & 0.2         & Iris-setosa\\\\\n",
       "\t 4.9         & 3.0         & 1.4         & 0.2         & Iris-setosa\\\\\n",
       "\t 4.7         & 3.2         & 1.3         & 0.2         & Iris-setosa\\\\\n",
       "\t 4.6         & 3.1         & 1.5         & 0.2         & Iris-setosa\\\\\n",
       "\t 5.0         & 3.6         & 1.4         & 0.2         & Iris-setosa\\\\\n",
       "\t 5.4         & 3.9         & 1.7         & 0.4         & Iris-setosa\\\\\n",
       "\t 4.6         & 3.4         & 1.4         & 0.3         & Iris-setosa\\\\\n",
       "\t 5.0         & 3.4         & 1.5         & 0.2         & Iris-setosa\\\\\n",
       "\t 4.4         & 2.9         & 1.4         & 0.2         & Iris-setosa\\\\\n",
       "\t 4.9         & 3.1         & 1.5         & 0.1         & Iris-setosa\\\\\n",
       "\t 5.4         & 3.7         & 1.5         & 0.2         & Iris-setosa\\\\\n",
       "\t 4.8         & 3.4         & 1.6         & 0.2         & Iris-setosa\\\\\n",
       "\t 4.8         & 3.0         & 1.4         & 0.1         & Iris-setosa\\\\\n",
       "\t 4.3         & 3.0         & 1.1         & 0.1         & Iris-setosa\\\\\n",
       "\t 5.8         & 4.0         & 1.2         & 0.2         & Iris-setosa\\\\\n",
       "\t 5.7         & 4.4         & 1.5         & 0.4         & Iris-setosa\\\\\n",
       "\t 5.4         & 3.9         & 1.3         & 0.4         & Iris-setosa\\\\\n",
       "\t 5.1         & 3.5         & 1.4         & 0.3         & Iris-setosa\\\\\n",
       "\t 5.7         & 3.8         & 1.7         & 0.3         & Iris-setosa\\\\\n",
       "\t 5.1         & 3.8         & 1.5         & 0.3         & Iris-setosa\\\\\n",
       "\t 5.4         & 3.4         & 1.7         & 0.2         & Iris-setosa\\\\\n",
       "\t 5.1         & 3.7         & 1.5         & 0.4         & Iris-setosa\\\\\n",
       "\t 4.6         & 3.6         & 1.0         & 0.2         & Iris-setosa\\\\\n",
       "\t 5.1         & 3.3         & 1.7         & 0.5         & Iris-setosa\\\\\n",
       "\t 4.8         & 3.4         & 1.9         & 0.2         & Iris-setosa\\\\\n",
       "\t 5.0         & 3.0         & 1.6         & 0.2         & Iris-setosa\\\\\n",
       "\t 5.0         & 3.4         & 1.6         & 0.4         & Iris-setosa\\\\\n",
       "\t 5.2         & 3.5         & 1.5         & 0.2         & Iris-setosa\\\\\n",
       "\t 5.2         & 3.4         & 1.4         & 0.2         & Iris-setosa\\\\\n",
       "\t 4.7         & 3.2         & 1.6         & 0.2         & Iris-setosa\\\\\n",
       "\t ⋮ & ⋮ & ⋮ & ⋮ & ⋮\\\\\n",
       "\t 6.9            & 3.2            & 5.7            & 2.3            & Iris-virginica\\\\\n",
       "\t 5.6            & 2.8            & 4.9            & 2.0            & Iris-virginica\\\\\n",
       "\t 7.7            & 2.8            & 6.7            & 2.0            & Iris-virginica\\\\\n",
       "\t 6.3            & 2.7            & 4.9            & 1.8            & Iris-virginica\\\\\n",
       "\t 6.7            & 3.3            & 5.7            & 2.1            & Iris-virginica\\\\\n",
       "\t 7.2            & 3.2            & 6.0            & 1.8            & Iris-virginica\\\\\n",
       "\t 6.2            & 2.8            & 4.8            & 1.8            & Iris-virginica\\\\\n",
       "\t 6.1            & 3.0            & 4.9            & 1.8            & Iris-virginica\\\\\n",
       "\t 6.4            & 2.8            & 5.6            & 2.1            & Iris-virginica\\\\\n",
       "\t 7.2            & 3.0            & 5.8            & 1.6            & Iris-virginica\\\\\n",
       "\t 7.4            & 2.8            & 6.1            & 1.9            & Iris-virginica\\\\\n",
       "\t 7.9            & 3.8            & 6.4            & 2.0            & Iris-virginica\\\\\n",
       "\t 6.4            & 2.8            & 5.6            & 2.2            & Iris-virginica\\\\\n",
       "\t 6.3            & 2.8            & 5.1            & 1.5            & Iris-virginica\\\\\n",
       "\t 6.1            & 2.6            & 5.6            & 1.4            & Iris-virginica\\\\\n",
       "\t 7.7            & 3.0            & 6.1            & 2.3            & Iris-virginica\\\\\n",
       "\t 6.3            & 3.4            & 5.6            & 2.4            & Iris-virginica\\\\\n",
       "\t 6.4            & 3.1            & 5.5            & 1.8            & Iris-virginica\\\\\n",
       "\t 6.0            & 3.0            & 4.8            & 1.8            & Iris-virginica\\\\\n",
       "\t 6.9            & 3.1            & 5.4            & 2.1            & Iris-virginica\\\\\n",
       "\t 6.7            & 3.1            & 5.6            & 2.4            & Iris-virginica\\\\\n",
       "\t 6.9            & 3.1            & 5.1            & 2.3            & Iris-virginica\\\\\n",
       "\t 5.8            & 2.7            & 5.1            & 1.9            & Iris-virginica\\\\\n",
       "\t 6.8            & 3.2            & 5.9            & 2.3            & Iris-virginica\\\\\n",
       "\t 6.7            & 3.3            & 5.7            & 2.5            & Iris-virginica\\\\\n",
       "\t 6.7            & 3.0            & 5.2            & 2.3            & Iris-virginica\\\\\n",
       "\t 6.3            & 2.5            & 5.0            & 1.9            & Iris-virginica\\\\\n",
       "\t 6.5            & 3.0            & 5.2            & 2.0            & Iris-virginica\\\\\n",
       "\t 6.2            & 3.4            & 5.4            & 2.3            & Iris-virginica\\\\\n",
       "\t 5.9            & 3.0            & 5.1            & 1.8            & Iris-virginica\\\\\n",
       "\\end{tabular}\n"
      ],
      "text/plain": [
       "    Sepal.Length Sepal.Width Petal.Length Petal.Width Species       \n",
       "1   5.1          3.5         1.4          0.2         Iris-setosa   \n",
       "2   4.9          3.0         1.4          0.2         Iris-setosa   \n",
       "3   4.7          3.2         1.3          0.2         Iris-setosa   \n",
       "4   4.6          3.1         1.5          0.2         Iris-setosa   \n",
       "5   5.0          3.6         1.4          0.2         Iris-setosa   \n",
       "6   5.4          3.9         1.7          0.4         Iris-setosa   \n",
       "7   4.6          3.4         1.4          0.3         Iris-setosa   \n",
       "8   5.0          3.4         1.5          0.2         Iris-setosa   \n",
       "9   4.4          2.9         1.4          0.2         Iris-setosa   \n",
       "10  4.9          3.1         1.5          0.1         Iris-setosa   \n",
       "11  5.4          3.7         1.5          0.2         Iris-setosa   \n",
       "12  4.8          3.4         1.6          0.2         Iris-setosa   \n",
       "13  4.8          3.0         1.4          0.1         Iris-setosa   \n",
       "14  4.3          3.0         1.1          0.1         Iris-setosa   \n",
       "15  5.8          4.0         1.2          0.2         Iris-setosa   \n",
       "16  5.7          4.4         1.5          0.4         Iris-setosa   \n",
       "17  5.4          3.9         1.3          0.4         Iris-setosa   \n",
       "18  5.1          3.5         1.4          0.3         Iris-setosa   \n",
       "19  5.7          3.8         1.7          0.3         Iris-setosa   \n",
       "20  5.1          3.8         1.5          0.3         Iris-setosa   \n",
       "21  5.4          3.4         1.7          0.2         Iris-setosa   \n",
       "22  5.1          3.7         1.5          0.4         Iris-setosa   \n",
       "23  4.6          3.6         1.0          0.2         Iris-setosa   \n",
       "24  5.1          3.3         1.7          0.5         Iris-setosa   \n",
       "25  4.8          3.4         1.9          0.2         Iris-setosa   \n",
       "26  5.0          3.0         1.6          0.2         Iris-setosa   \n",
       "27  5.0          3.4         1.6          0.4         Iris-setosa   \n",
       "28  5.2          3.5         1.5          0.2         Iris-setosa   \n",
       "29  5.2          3.4         1.4          0.2         Iris-setosa   \n",
       "30  4.7          3.2         1.6          0.2         Iris-setosa   \n",
       "⋮   ⋮            ⋮           ⋮            ⋮           ⋮             \n",
       "121 6.9          3.2         5.7          2.3         Iris-virginica\n",
       "122 5.6          2.8         4.9          2.0         Iris-virginica\n",
       "123 7.7          2.8         6.7          2.0         Iris-virginica\n",
       "124 6.3          2.7         4.9          1.8         Iris-virginica\n",
       "125 6.7          3.3         5.7          2.1         Iris-virginica\n",
       "126 7.2          3.2         6.0          1.8         Iris-virginica\n",
       "127 6.2          2.8         4.8          1.8         Iris-virginica\n",
       "128 6.1          3.0         4.9          1.8         Iris-virginica\n",
       "129 6.4          2.8         5.6          2.1         Iris-virginica\n",
       "130 7.2          3.0         5.8          1.6         Iris-virginica\n",
       "131 7.4          2.8         6.1          1.9         Iris-virginica\n",
       "132 7.9          3.8         6.4          2.0         Iris-virginica\n",
       "133 6.4          2.8         5.6          2.2         Iris-virginica\n",
       "134 6.3          2.8         5.1          1.5         Iris-virginica\n",
       "135 6.1          2.6         5.6          1.4         Iris-virginica\n",
       "136 7.7          3.0         6.1          2.3         Iris-virginica\n",
       "137 6.3          3.4         5.6          2.4         Iris-virginica\n",
       "138 6.4          3.1         5.5          1.8         Iris-virginica\n",
       "139 6.0          3.0         4.8          1.8         Iris-virginica\n",
       "140 6.9          3.1         5.4          2.1         Iris-virginica\n",
       "141 6.7          3.1         5.6          2.4         Iris-virginica\n",
       "142 6.9          3.1         5.1          2.3         Iris-virginica\n",
       "143 5.8          2.7         5.1          1.9         Iris-virginica\n",
       "144 6.8          3.2         5.9          2.3         Iris-virginica\n",
       "145 6.7          3.3         5.7          2.5         Iris-virginica\n",
       "146 6.7          3.0         5.2          2.3         Iris-virginica\n",
       "147 6.3          2.5         5.0          1.9         Iris-virginica\n",
       "148 6.5          3.0         5.2          2.0         Iris-virginica\n",
       "149 6.2          3.4         5.4          2.3         Iris-virginica\n",
       "150 5.9          3.0         5.1          1.8         Iris-virginica"
      ]
     },
     "metadata": {},
     "output_type": "display_data"
    }
   ],
   "source": [
    "iris.data"
   ]
  },
  {
   "cell_type": "markdown",
   "metadata": {},
   "source": [
    "## Exploratory Data Analysis"
   ]
  },
  {
   "cell_type": "code",
   "execution_count": 8,
   "metadata": {
    "collapsed": false
   },
   "outputs": [
    {
     "data": {
      "text/html": [
       "<ol class=list-inline>\n",
       "\t<li>150</li>\n",
       "\t<li>5</li>\n",
       "</ol>\n"
      ],
      "text/latex": [
       "\\begin{enumerate*}\n",
       "\\item 150\n",
       "\\item 5\n",
       "\\end{enumerate*}\n"
      ],
      "text/markdown": [
       "1. 150\n",
       "2. 5\n",
       "\n",
       "\n"
      ],
      "text/plain": [
       "[1] 150   5"
      ]
     },
     "metadata": {},
     "output_type": "display_data"
    }
   ],
   "source": [
    "# 1. dim\n",
    "dim(iris.data)"
   ]
  },
  {
   "cell_type": "code",
   "execution_count": 9,
   "metadata": {
    "collapsed": false
   },
   "outputs": [
    {
     "name": "stdout",
     "output_type": "stream",
     "text": [
      "'data.frame':\t150 obs. of  5 variables:\n",
      " $ Sepal.Length: num  5.1 4.9 4.7 4.6 5 5.4 4.6 5 4.4 4.9 ...\n",
      " $ Sepal.Width : num  3.5 3 3.2 3.1 3.6 3.9 3.4 3.4 2.9 3.1 ...\n",
      " $ Petal.Length: num  1.4 1.4 1.3 1.5 1.4 1.7 1.4 1.5 1.4 1.5 ...\n",
      " $ Petal.Width : num  0.2 0.2 0.2 0.2 0.2 0.4 0.3 0.2 0.2 0.1 ...\n",
      " $ Species     : Factor w/ 3 levels \"Iris-setosa\",..: 1 1 1 1 1 1 1 1 1 1 ...\n"
     ]
    }
   ],
   "source": [
    "# 2. Dataset Structure\n",
    "str(iris.data)"
   ]
  },
  {
   "cell_type": "markdown",
   "metadata": {},
   "source": [
    "iris.data is DataFrame object in R, 150 samples, 5 factors, previous 4 are numeric, the 5th is Factor type, Class varible."
   ]
  },
  {
   "cell_type": "code",
   "execution_count": 11,
   "metadata": {
    "collapsed": false
   },
   "outputs": [
    {
     "data": {
      "text/html": [
       "<table>\n",
       "<thead><tr><th scope=col>Sepal.Length</th><th scope=col>Sepal.Width</th><th scope=col>Petal.Length</th><th scope=col>Petal.Width</th><th scope=col>Species</th></tr></thead>\n",
       "<tbody>\n",
       "\t<tr><td>5.1        </td><td>3.5        </td><td>1.4        </td><td>0.2        </td><td>Iris-setosa</td></tr>\n",
       "\t<tr><td>4.9        </td><td>3.0        </td><td>1.4        </td><td>0.2        </td><td>Iris-setosa</td></tr>\n",
       "\t<tr><td>4.7        </td><td>3.2        </td><td>1.3        </td><td>0.2        </td><td>Iris-setosa</td></tr>\n",
       "\t<tr><td>4.6        </td><td>3.1        </td><td>1.5        </td><td>0.2        </td><td>Iris-setosa</td></tr>\n",
       "\t<tr><td>5.0        </td><td>3.6        </td><td>1.4        </td><td>0.2        </td><td>Iris-setosa</td></tr>\n",
       "\t<tr><td>5.4        </td><td>3.9        </td><td>1.7        </td><td>0.4        </td><td>Iris-setosa</td></tr>\n",
       "\t<tr><td>4.6        </td><td>3.4        </td><td>1.4        </td><td>0.3        </td><td>Iris-setosa</td></tr>\n",
       "\t<tr><td>5.0        </td><td>3.4        </td><td>1.5        </td><td>0.2        </td><td>Iris-setosa</td></tr>\n",
       "\t<tr><td>4.4        </td><td>2.9        </td><td>1.4        </td><td>0.2        </td><td>Iris-setosa</td></tr>\n",
       "\t<tr><td>4.9        </td><td>3.1        </td><td>1.5        </td><td>0.1        </td><td>Iris-setosa</td></tr>\n",
       "</tbody>\n",
       "</table>\n"
      ],
      "text/latex": [
       "\\begin{tabular}{r|lllll}\n",
       " Sepal.Length & Sepal.Width & Petal.Length & Petal.Width & Species\\\\\n",
       "\\hline\n",
       "\t 5.1         & 3.5         & 1.4         & 0.2         & Iris-setosa\\\\\n",
       "\t 4.9         & 3.0         & 1.4         & 0.2         & Iris-setosa\\\\\n",
       "\t 4.7         & 3.2         & 1.3         & 0.2         & Iris-setosa\\\\\n",
       "\t 4.6         & 3.1         & 1.5         & 0.2         & Iris-setosa\\\\\n",
       "\t 5.0         & 3.6         & 1.4         & 0.2         & Iris-setosa\\\\\n",
       "\t 5.4         & 3.9         & 1.7         & 0.4         & Iris-setosa\\\\\n",
       "\t 4.6         & 3.4         & 1.4         & 0.3         & Iris-setosa\\\\\n",
       "\t 5.0         & 3.4         & 1.5         & 0.2         & Iris-setosa\\\\\n",
       "\t 4.4         & 2.9         & 1.4         & 0.2         & Iris-setosa\\\\\n",
       "\t 4.9         & 3.1         & 1.5         & 0.1         & Iris-setosa\\\\\n",
       "\\end{tabular}\n"
      ],
      "text/plain": [
       "   Sepal.Length Sepal.Width Petal.Length Petal.Width Species    \n",
       "1  5.1          3.5         1.4          0.2         Iris-setosa\n",
       "2  4.9          3.0         1.4          0.2         Iris-setosa\n",
       "3  4.7          3.2         1.3          0.2         Iris-setosa\n",
       "4  4.6          3.1         1.5          0.2         Iris-setosa\n",
       "5  5.0          3.6         1.4          0.2         Iris-setosa\n",
       "6  5.4          3.9         1.7          0.4         Iris-setosa\n",
       "7  4.6          3.4         1.4          0.3         Iris-setosa\n",
       "8  5.0          3.4         1.5          0.2         Iris-setosa\n",
       "9  4.4          2.9         1.4          0.2         Iris-setosa\n",
       "10 4.9          3.1         1.5          0.1         Iris-setosa"
      ]
     },
     "metadata": {},
     "output_type": "display_data"
    }
   ],
   "source": [
    "# 3. Fetch the previous 10 browsing objects.\n",
    "head(iris.data, 10)"
   ]
  },
  {
   "cell_type": "code",
   "execution_count": 12,
   "metadata": {
    "collapsed": false
   },
   "outputs": [
    {
     "data": {
      "text/plain": [
       "  Sepal.Length    Sepal.Width     Petal.Length    Petal.Width   \n",
       " Min.   :4.300   Min.   :2.000   Min.   :1.000   Min.   :0.100  \n",
       " 1st Qu.:5.100   1st Qu.:2.800   1st Qu.:1.600   1st Qu.:0.300  \n",
       " Median :5.800   Median :3.000   Median :4.350   Median :1.300  \n",
       " Mean   :5.843   Mean   :3.054   Mean   :3.759   Mean   :1.199  \n",
       " 3rd Qu.:6.400   3rd Qu.:3.300   3rd Qu.:5.100   3rd Qu.:1.800  \n",
       " Max.   :7.900   Max.   :4.400   Max.   :6.900   Max.   :2.500  \n",
       "            Species  \n",
       " Iris-setosa    :50  \n",
       " Iris-versicolor:50  \n",
       " Iris-virginica :50  \n",
       "                     \n",
       "                     \n",
       "                     "
      ]
     },
     "metadata": {},
     "output_type": "display_data"
    }
   ],
   "source": [
    "# 4. Dataset Summary\n",
    "summary(iris.data)"
   ]
  },
  {
   "cell_type": "code",
   "execution_count": 13,
   "metadata": {
    "collapsed": false
   },
   "outputs": [
    {
     "data": {
      "text/plain": [
       "\n",
       "    Iris-setosa Iris-versicolor  Iris-virginica \n",
       "             50              50              50 "
      ]
     },
     "metadata": {},
     "output_type": "display_data"
    }
   ],
   "source": [
    "table(iris.data$Species)"
   ]
  },
  {
   "cell_type": "code",
   "execution_count": 14,
   "metadata": {
    "collapsed": false
   },
   "outputs": [
    {
     "data": {
      "text/html": [
       "0.685693512304251"
      ],
      "text/latex": [
       "0.685693512304251"
      ],
      "text/markdown": [
       "0.685693512304251"
      ],
      "text/plain": [
       "[1] 0.6856935"
      ]
     },
     "metadata": {},
     "output_type": "display_data"
    }
   ],
   "source": [
    "# 5. var & sd\n",
    "var(iris.data$Sepal.Length)"
   ]
  },
  {
   "cell_type": "code",
   "execution_count": 15,
   "metadata": {
    "collapsed": false
   },
   "outputs": [
    {
     "data": {
      "text/html": [
       "0.828066127977863"
      ],
      "text/latex": [
       "0.828066127977863"
      ],
      "text/markdown": [
       "0.828066127977863"
      ],
      "text/plain": [
       "[1] 0.8280661"
      ]
     },
     "metadata": {},
     "output_type": "display_data"
    }
   ],
   "source": [
    "sd(iris.data$Sepal.Length)"
   ]
  },
  {
   "cell_type": "code",
   "execution_count": 16,
   "metadata": {
    "collapsed": false
   },
   "outputs": [
    {
     "data": {
      "text/html": [
       "1.27368232662192"
      ],
      "text/latex": [
       "1.27368232662192"
      ],
      "text/markdown": [
       "1.27368232662192"
      ],
      "text/plain": [
       "[1] 1.273682"
      ]
     },
     "metadata": {},
     "output_type": "display_data"
    }
   ],
   "source": [
    "# 6. cov & cor\n",
    "cov(iris.data$Sepal.Length, iris.data$Petal.Length)"
   ]
  },
  {
   "cell_type": "code",
   "execution_count": 17,
   "metadata": {
    "collapsed": false
   },
   "outputs": [
    {
     "data": {
      "text/html": [
       "0.871754157304871"
      ],
      "text/latex": [
       "0.871754157304871"
      ],
      "text/markdown": [
       "0.871754157304871"
      ],
      "text/plain": [
       "[1] 0.8717542"
      ]
     },
     "metadata": {},
     "output_type": "display_data"
    }
   ],
   "source": [
    "cor(iris.data$Sepal.Length, iris.data$Petal.Length)"
   ]
  },
  {
   "cell_type": "code",
   "execution_count": 18,
   "metadata": {
    "collapsed": false
   },
   "outputs": [
    {
     "data": {
      "image/png": "[encoded data removed]",
      "text/plain": [
       "plot without title"
      ]
     },
     "metadata": {},
     "output_type": "display_data"
    }
   ],
   "source": [
    "# 7. plot\n",
    "plot(iris.data$Sepal.Length, iris.data$Sepal.Width, col=iris.data$Species)"
   ]
  },
  {
   "cell_type": "markdown",
   "metadata": {},
   "source": [
    "What do you discover from the plot picture above?"
   ]
  },
  {
   "cell_type": "code",
   "execution_count": null,
   "metadata": {
    "collapsed": true
   },
   "outputs": [],
   "source": []
  }
 ],
 "metadata": {
  "kernelspec": {
   "display_name": "R",
   "language": "R",
   "name": "ir"
  },
  "language_info": {
   "codemirror_mode": "r",
   "file_extension": ".r",
   "mimetype": "text/x-r-source",
   "name": "R",
   "pygments_lexer": "r",
   "version": "3.3.1"
  }
 },
 "nbformat": 4,
 "nbformat_minor": 1
}
