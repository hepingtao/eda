{
 "cells": [
  {
   "cell_type": "markdown",
   "metadata": {},
   "source": [
    "# Query your database over an SSH tunnel with Pandas"
   ]
  },
  {
   "cell_type": "markdown",
   "metadata": {},
   "source": [
    "### SSH and database information"
   ]
  },
  {
   "cell_type": "code",
   "execution_count": 6,
   "metadata": {
    "collapsed": true
   },
   "outputs": [],
   "source": [
    "# ssh variables\n",
    "ssh_host = '192.168.31.56'\n",
    "ssh_username = 'itouchtv'\n",
    "ssh_password = 'itouchtv'"
   ]
  },
  {
   "cell_type": "code",
   "execution_count": 15,
   "metadata": {
    "collapsed": true
   },
   "outputs": [],
   "source": [
    "# database variables\n",
    "host = '192.168.31.49'\n",
    "user = 'touchtv'\n",
    "password = 'op@touchtv'\n",
    "database = 'touchtv_dev'\n",
    "port = 3306"
   ]
  },
  {
   "cell_type": "markdown",
   "metadata": {},
   "source": [
    "### Import packages"
   ]
  },
  {
   "cell_type": "code",
   "execution_count": 8,
   "metadata": {
    "collapsed": true
   },
   "outputs": [],
   "source": [
    "from sshtunnel import SSHTunnelForwarder\n",
    "import MySQLdb as db\n",
    "import pandas as pd"
   ]
  },
  {
   "cell_type": "code",
   "execution_count": 3,
   "metadata": {
    "collapsed": false
   },
   "outputs": [],
   "source": [
    "? SSHTunnelForwarder"
   ]
  },
  {
   "cell_type": "markdown",
   "metadata": {},
   "source": [
    "### The query function"
   ]
  },
  {
   "cell_type": "code",
   "execution_count": 16,
   "metadata": {
    "collapsed": true
   },
   "outputs": [],
   "source": [
    "def query(q):\n",
    "    with SSHTunnelForwarder(\n",
    "        (ssh_host, 22),\n",
    "        ssh_username=ssh_username,\n",
    "        ssh_password=ssh_password,\n",
    "        remote_bind_address=(host, 3306)\n",
    "    ) as server:\n",
    "        conn = db.connect(host=host,\n",
    "                         port=port,\n",
    "                         user=user,\n",
    "                         passwd=password,\n",
    "                         db=database)\n",
    "        return pd.read_sql_query(q, conn)"
   ]
  },
  {
   "cell_type": "code",
   "execution_count": 17,
   "metadata": {
    "collapsed": false
   },
   "outputs": [
    {
     "data": {
      "text/plain": [
       "<function __main__.query>"
      ]
     },
     "execution_count": 17,
     "metadata": {},
     "output_type": "execute_result"
    }
   ],
   "source": [
    "query"
   ]
  },
  {
   "cell_type": "markdown",
   "metadata": {},
   "source": [
    "### Query time"
   ]
  },
  {
   "cell_type": "code",
   "execution_count": 18,
   "metadata": {
    "collapsed": false
   },
   "outputs": [],
   "source": [
    "df = query(\"select * from channel limit 5\")"
   ]
  },
  {
   "cell_type": "code",
   "execution_count": 19,
   "metadata": {
    "collapsed": false
   },
   "outputs": [
    {
     "data": {
      "text/html": [
       "<div>\n",
       "<table border=\"1\" class=\"dataframe\">\n",
       "  <thead>\n",
       "    <tr style=\"text-align: right;\">\n",
       "      <th></th>\n",
       "      <th>pk</th>\n",
       "      <th>parent_pk</th>\n",
       "      <th>name</th>\n",
       "      <th>type</th>\n",
       "      <th>remark</th>\n",
       "      <th>status</th>\n",
       "      <th>show</th>\n",
       "      <th>sort</th>\n",
       "      <th>created_at</th>\n",
       "      <th>updated_at</th>\n",
       "      <th>channel_category</th>\n",
       "      <th>recommend_days</th>\n",
       "      <th>root_tag_pk</th>\n",
       "    </tr>\n",
       "  </thead>\n",
       "  <tbody>\n",
       "    <tr>\n",
       "      <th>0</th>\n",
       "      <td>1</td>\n",
       "      <td>0</td>\n",
       "      <td>??</td>\n",
       "      <td>0</td>\n",
       "      <td>QWE</td>\n",
       "      <td>0</td>\n",
       "      <td>0</td>\n",
       "      <td>1</td>\n",
       "      <td>2016-09-07 14:14:47</td>\n",
       "      <td>2017-01-12 15:37:44</td>\n",
       "      <td>0</td>\n",
       "      <td>30</td>\n",
       "      <td>0</td>\n",
       "    </tr>\n",
       "    <tr>\n",
       "      <th>1</th>\n",
       "      <td>2</td>\n",
       "      <td>0</td>\n",
       "      <td>??</td>\n",
       "      <td>0</td>\n",
       "      <td>xiugaishij</td>\n",
       "      <td>0</td>\n",
       "      <td>0</td>\n",
       "      <td>2</td>\n",
       "      <td>2016-09-07 14:14:47</td>\n",
       "      <td>2017-01-12 15:37:44</td>\n",
       "      <td>0</td>\n",
       "      <td>30</td>\n",
       "      <td>0</td>\n",
       "    </tr>\n",
       "    <tr>\n",
       "      <th>2</th>\n",
       "      <td>3</td>\n",
       "      <td>0</td>\n",
       "      <td>??</td>\n",
       "      <td>3</td>\n",
       "      <td>None</td>\n",
       "      <td>0</td>\n",
       "      <td>0</td>\n",
       "      <td>3</td>\n",
       "      <td>2016-09-07 14:14:47</td>\n",
       "      <td>2017-01-12 15:37:44</td>\n",
       "      <td>0</td>\n",
       "      <td>30</td>\n",
       "      <td>0</td>\n",
       "    </tr>\n",
       "    <tr>\n",
       "      <th>3</th>\n",
       "      <td>4</td>\n",
       "      <td>0</td>\n",
       "      <td>????</td>\n",
       "      <td>0</td>\n",
       "      <td>None</td>\n",
       "      <td>0</td>\n",
       "      <td>0</td>\n",
       "      <td>4</td>\n",
       "      <td>2016-09-07 14:14:47</td>\n",
       "      <td>2017-01-12 15:37:44</td>\n",
       "      <td>0</td>\n",
       "      <td>30</td>\n",
       "      <td>0</td>\n",
       "    </tr>\n",
       "    <tr>\n",
       "      <th>4</th>\n",
       "      <td>5</td>\n",
       "      <td>0</td>\n",
       "      <td>??</td>\n",
       "      <td>0</td>\n",
       "      <td>None</td>\n",
       "      <td>0</td>\n",
       "      <td>0</td>\n",
       "      <td>5</td>\n",
       "      <td>2016-09-07 14:14:47</td>\n",
       "      <td>2017-01-12 15:37:44</td>\n",
       "      <td>0</td>\n",
       "      <td>30</td>\n",
       "      <td>0</td>\n",
       "    </tr>\n",
       "  </tbody>\n",
       "</table>\n",
       "</div>"
      ],
      "text/plain": [
       "   pk  parent_pk  name  type      remark  status  show  sort  \\\n",
       "0   1          0    ??     0         QWE       0     0     1   \n",
       "1   2          0    ??     0  xiugaishij       0     0     2   \n",
       "2   3          0    ??     3        None       0     0     3   \n",
       "3   4          0  ????     0        None       0     0     4   \n",
       "4   5          0    ??     0        None       0     0     5   \n",
       "\n",
       "           created_at          updated_at  channel_category  recommend_days  \\\n",
       "0 2016-09-07 14:14:47 2017-01-12 15:37:44                 0              30   \n",
       "1 2016-09-07 14:14:47 2017-01-12 15:37:44                 0              30   \n",
       "2 2016-09-07 14:14:47 2017-01-12 15:37:44                 0              30   \n",
       "3 2016-09-07 14:14:47 2017-01-12 15:37:44                 0              30   \n",
       "4 2016-09-07 14:14:47 2017-01-12 15:37:44                 0              30   \n",
       "\n",
       "   root_tag_pk  \n",
       "0            0  \n",
       "1            0  \n",
       "2            0  \n",
       "3            0  \n",
       "4            0  "
      ]
     },
     "execution_count": 19,
     "metadata": {},
     "output_type": "execute_result"
    }
   ],
   "source": [
    "df"
   ]
  },
  {
   "cell_type": "code",
   "execution_count": null,
   "metadata": {
    "collapsed": true
   },
   "outputs": [],
   "source": []
  }
 ],
 "metadata": {
  "kernelspec": {
   "display_name": "Python 2",
   "language": "python",
   "name": "python2"
  },
  "language_info": {
   "codemirror_mode": {
    "name": "ipython",
    "version": 2
   },
   "file_extension": ".py",
   "mimetype": "text/x-python",
   "name": "python",
   "nbconvert_exporter": "python",
   "pygments_lexer": "ipython2",
   "version": "2.7.13"
  }
 },
 "nbformat": 4,
 "nbformat_minor": 2
}
